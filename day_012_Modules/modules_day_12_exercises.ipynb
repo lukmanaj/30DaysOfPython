{
 "cells": [
  {
   "attachments": {},
   "cell_type": "markdown",
   "metadata": {},
   "source": [
    "# Day 12: Thirty Days of Python Programming\n",
    "## Exercises: Day 12"
   ]
  },
  {
   "attachments": {},
   "cell_type": "markdown",
   "metadata": {},
   "source": [
    "### Exercises: Level 1"
   ]
  },
  {
   "attachments": {},
   "cell_type": "markdown",
   "metadata": {},
   "source": [
    "1. Write a function which generates a six digit/character random_user_id.\n",
    "  "
   ]
  },
  {
   "cell_type": "code",
   "execution_count": 5,
   "metadata": {},
   "outputs": [
    {
     "name": "stdout",
     "output_type": "stream",
     "text": [
      " id: wcyXMo\n"
     ]
    }
   ],
   "source": [
    "# importing the required modules\n",
    "import random\n",
    "import string\n",
    "def random_user_id():\n",
    "    return \"\".join(str(random.choice(string.ascii_letters + string.digits)) for i in range(6))\n",
    "\n",
    "\n",
    "print(f' id: {random_user_id()}')\n"
   ]
  },
  {
   "attachments": {},
   "cell_type": "markdown",
   "metadata": {},
   "source": [
    "2. Modify the previous task. Declare a function named user_id_gen_by_user. It doesn’t take any parameters but it takes two inputs using input(). One of the inputs is the number of characters and the second input is the number of IDs which are supposed to be generated."
   ]
  },
  {
   "cell_type": "code",
   "execution_count": 7,
   "metadata": {},
   "outputs": [
    {
     "data": {
      "text/plain": [
       "['lMBjc', 's6XbG', 'h9KZ6', 'COey5', '3T0px']"
      ]
     },
     "execution_count": 7,
     "metadata": {},
     "output_type": "execute_result"
    }
   ],
   "source": [
    "def random_user_id_gen_by_user():\n",
    "    a = int(input(\"Enter the number of characters: \"))\n",
    "    b = int(input(\"Enter the number of IDs: \"))\n",
    "    return [\"\".join(str(random.choice(string.ascii_letters + string.digits)) for i in range(a)) for j in range(b)]\n",
    "\n",
    "random_user_id_gen_by_user()\n"
   ]
  },
  {
   "attachments": {},
   "cell_type": "markdown",
   "metadata": {},
   "source": [
    "\n",
    "3. Write a function named rgb_color_gen. It will generate rgb colors (3 values ranging from 0 to 255 each)."
   ]
  },
  {
   "cell_type": "code",
   "execution_count": 12,
   "metadata": {},
   "outputs": [
    {
     "name": "stdout",
     "output_type": "stream",
     "text": [
      "rgb(202,187,90)\n"
     ]
    }
   ],
   "source": [
    "def rgb_color_gen():\n",
    "    a = ','.join(str(random.randint(0,255)) for i in range(3))\n",
    "    return 'rgb('+ a + ')'\n",
    "\n",
    "print(rgb_color_gen())\n"
   ]
  },
  {
   "attachments": {},
   "cell_type": "markdown",
   "metadata": {},
   "source": [
    "### Exercises: Level 2"
   ]
  },
  {
   "attachments": {},
   "cell_type": "markdown",
   "metadata": {},
   "source": [
    "1. Write a function list_of_hexa_colors which returns any number of hexadecimal colors in an array (six hexadecimal numbers written after #. Hexadecimal numeral system is made out of 16 symbols, 0-9 and first 6 letters of the alphabet, a-f. Check the task 6 for output examples)."
   ]
  },
  {
   "cell_type": "code",
   "execution_count": 18,
   "metadata": {},
   "outputs": [
    {
     "data": {
      "text/plain": [
       "['#fd1a04', '#ccffd0', '#32cccb', '#59514e', '#67ff07', '#611c86']"
      ]
     },
     "execution_count": 18,
     "metadata": {},
     "output_type": "execute_result"
    }
   ],
   "source": [
    "def list_of_hexa_colors(x):\n",
    "     a= [\"\".join(str(random.choice('abcdef' + string.digits)) for i in range(6)) for j in range(x)]\n",
    "     b =['#' + item for item in a]\n",
    "     return b\n",
    "list_of_hexa_colors(6)\n"
   ]
  },
  {
   "attachments": {},
   "cell_type": "markdown",
   "metadata": {},
   "source": [
    "2. Write a function list_of_rgb_colors which returns any number of RGB colors in an array."
   ]
  },
  {
   "cell_type": "code",
   "execution_count": 24,
   "metadata": {},
   "outputs": [
    {
     "data": {
      "text/plain": [
       "['rgb(185,61,135)',\n",
       " 'rgb(246,31,166)',\n",
       " 'rgb(202,69,18)',\n",
       " 'rgb(148,149,53)',\n",
       " 'rgb(227,6,39)',\n",
       " 'rgb(42,249,232)',\n",
       " 'rgb(52,222,173)']"
      ]
     },
     "execution_count": 24,
     "metadata": {},
     "output_type": "execute_result"
    }
   ],
   "source": [
    "def list_of_rgb_colors(x):\n",
    "    return [rgb_color_gen() for i in range(x)]\n",
    "\n",
    "list_of_rgb_colors(7)\n"
   ]
  },
  {
   "attachments": {},
   "cell_type": "markdown",
   "metadata": {},
   "source": [
    "3. Write a function generate_colors which can generate any number of hexa or rgb colors.\n"
   ]
  },
  {
   "cell_type": "code",
   "execution_count": 28,
   "metadata": {},
   "outputs": [
    {
     "name": "stdout",
     "output_type": "stream",
     "text": [
      "['#1f290b', '#b59413', '#ba32f9', '#1c3825']\n"
     ]
    }
   ],
   "source": [
    "def generate_colors(fun,x):\n",
    "    if fun == 'hexa':\n",
    "        result = list_of_hexa_colors(x)\n",
    "    elif fun == 'rgb':\n",
    "        result = list_of_rgb_colors(x)\n",
    "\n",
    "    return result\n",
    "\n",
    "\n",
    "print(generate_colors('hexa',4))"
   ]
  },
  {
   "attachments": {},
   "cell_type": "markdown",
   "metadata": {},
   "source": [
    "### Exercises: Level 3"
   ]
  },
  {
   "attachments": {},
   "cell_type": "markdown",
   "metadata": {},
   "source": [
    "1. Call your function shuffle_list, it takes a list as a parameter and it returns a shuffled list"
   ]
  },
  {
   "cell_type": "code",
   "execution_count": 31,
   "metadata": {},
   "outputs": [
    {
     "name": "stdout",
     "output_type": "stream",
     "text": [
      "[2, 3, 4, 5, 1]\n"
     ]
    }
   ],
   "source": [
    "def shuffle_list(list):\n",
    "    random.shuffle(list)\n",
    "    return list\n",
    "print(shuffle_list([1,2,3,4,5]))\n"
   ]
  },
  {
   "attachments": {},
   "cell_type": "markdown",
   "metadata": {},
   "source": [
    "2. Write a function which returns an array of seven random numbers in a range of 0-9. All the numbers must be unique."
   ]
  },
  {
   "cell_type": "code",
   "execution_count": 35,
   "metadata": {},
   "outputs": [
    {
     "name": "stdout",
     "output_type": "stream",
     "text": [
      "[8, 5, 7, 3, 1, 0, 2]\n"
     ]
    }
   ],
   "source": [
    "def unique_random_nums():\n",
    "    return random.sample([0,1,2,3,4,5,6,7,8,9],k=7)\n",
    "\n",
    "print(unique_random_nums())"
   ]
  }
 ],
 "metadata": {
  "kernelspec": {
   "display_name": "Python 3",
   "language": "python",
   "name": "python3"
  },
  "language_info": {
   "codemirror_mode": {
    "name": "ipython",
    "version": 3
   },
   "file_extension": ".py",
   "mimetype": "text/x-python",
   "name": "python",
   "nbconvert_exporter": "python",
   "pygments_lexer": "ipython3",
   "version": "3.10.9"
  },
  "orig_nbformat": 4,
  "vscode": {
   "interpreter": {
    "hash": "db993d6c4ab1e420525858b18847f6af7ebb712b4e4bd18e95f70d77cc0cf406"
   }
  }
 },
 "nbformat": 4,
 "nbformat_minor": 2
}
